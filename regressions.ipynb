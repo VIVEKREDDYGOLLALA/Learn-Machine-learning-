{
 "cells": [
  {
   "cell_type": "code",
   "execution_count": 1,
   "id": "a702a9de",
   "metadata": {},
   "outputs": [
    {
     "name": "stdout",
     "output_type": "stream",
     "text": [
      "Reinitialized existing Git repository in C:/Users/shreya reddy/.git/\n"
     ]
    }
   ],
   "source": [
    "!git init"
   ]
  },
  {
   "cell_type": "code",
   "execution_count": 2,
   "id": "f83f33e3",
   "metadata": {},
   "outputs": [
    {
     "name": "stderr",
     "output_type": "stream",
     "text": [
      "error: remote origin already exists.\n"
     ]
    }
   ],
   "source": [
    "! git remote add origin https://github.com/VIVEKREDDYGOLLALA/Learn-Machine-learning-.git"
   ]
  },
  {
   "cell_type": "code",
   "execution_count": 11,
   "id": "51e3262a",
   "metadata": {},
   "outputs": [
    {
     "name": "stdout",
     "output_type": "stream",
     "text": [
      "origin\thttps://github.com/VIVEKREDDYGOLLALA/Learn-Machine-learning-.git (fetch)\n",
      "origin\thttps://github.com/VIVEKREDDYGOLLALA/Learn-Machine-learning-.git (push)\n"
     ]
    }
   ],
   "source": [
    "! git remote -v\n"
   ]
  },
  {
   "cell_type": "code",
   "execution_count": null,
   "id": "14c6e2da",
   "metadata": {},
   "outputs": [],
   "source": [
    "! git add regressions.ipynb\n"
   ]
  },
  {
   "cell_type": "code",
   "execution_count": null,
   "id": "5d53391d",
   "metadata": {},
   "outputs": [],
   "source": []
  }
 ],
 "metadata": {
  "kernelspec": {
   "display_name": "Python 3 (ipykernel)",
   "language": "python",
   "name": "python3"
  },
  "language_info": {
   "codemirror_mode": {
    "name": "ipython",
    "version": 3
   },
   "file_extension": ".py",
   "mimetype": "text/x-python",
   "name": "python",
   "nbconvert_exporter": "python",
   "pygments_lexer": "ipython3",
   "version": "3.9.7"
  }
 },
 "nbformat": 4,
 "nbformat_minor": 5
}
